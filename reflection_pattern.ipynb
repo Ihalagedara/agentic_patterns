{
 "cells": [
  {
   "cell_type": "code",
   "execution_count": 18,
   "id": "9a38ed00",
   "metadata": {},
   "outputs": [],
   "source": [
    "import os\n",
    "from pprint import pprint\n",
    "from openai import OpenAI\n",
    "\n",
    "from dotenv import load_dotenv\n",
    "from IPython.display import display_markdown"
   ]
  },
  {
   "cell_type": "code",
   "execution_count": 19,
   "id": "d224d4aa",
   "metadata": {},
   "outputs": [],
   "source": [
    "load_dotenv()  \n",
    "client = OpenAI()"
   ]
  },
  {
   "cell_type": "code",
   "execution_count": 20,
   "id": "7df0bce6",
   "metadata": {},
   "outputs": [],
   "source": [
    "generation_chat_history = [\n",
    "    {\n",
    "        \"role\": \"system\",\n",
    "        \"content\": \"You are a Python programmer tasked with generating high quality Python code.\"\n",
    "        \"Your task is to Generate the best content possible for the user's request. If the user provides critique,\" \n",
    "        \"respond with a revised version of your previous attempt.\"\n",
    "    }\n",
    "]"
   ]
  },
  {
   "cell_type": "code",
   "execution_count": 21,
   "id": "654f774c",
   "metadata": {},
   "outputs": [],
   "source": [
    "generation_chat_history.append(\n",
    "    {\n",
    "        \"role\": \"user\",\n",
    "        \"content\": \"Generate a Python implementation of the Merge Sort algorithm\"\n",
    "    }\n",
    ")"
   ]
  },
  {
   "cell_type": "code",
   "execution_count": 22,
   "id": "4140e04e",
   "metadata": {},
   "outputs": [],
   "source": [
    "mergesort_code = client.chat.completions.create(\n",
    "    model=\"gpt-4o-mini\",\n",
    "    messages=generation_chat_history\n",
    ").choices[0].message.content\n"
   ]
  },
  {
   "cell_type": "code",
   "execution_count": 23,
   "id": "d9240c0d",
   "metadata": {},
   "outputs": [],
   "source": [
    "generation_chat_history.append(\n",
    "    {\n",
    "        \"role\": \"assistant\",\n",
    "        \"content\": mergesort_code\n",
    "    }\n",
    ")"
   ]
  },
  {
   "cell_type": "code",
   "execution_count": 26,
   "id": "c843f851",
   "metadata": {},
   "outputs": [
    {
     "data": {
      "text/plain": [
       "[{'role': 'system',\n",
       "  'content': \"You are a Python programmer tasked with generating high quality Python code.Your task is to Generate the best content possible for the user's request. If the user provides critique,respond with a revised version of your previous attempt.\"},\n",
       " {'role': 'user',\n",
       "  'content': 'Generate a Python implementation of the Merge Sort algorithm'},\n",
       " {'role': 'assistant',\n",
       "  'content': 'Sure! Here is a clear and concise implementation of the Merge Sort algorithm in Python:\\n\\n```python\\ndef merge_sort(arr):\\n    if len(arr) > 1:\\n        mid = len(arr) // 2  # Finding the mid of the array\\n        left_half = arr[:mid]  # Dividing the array elements into 2 halves\\n        right_half = arr[mid:]\\n\\n        merge_sort(left_half)  # Sorting the first half\\n        merge_sort(right_half)  # Sorting the second half\\n\\n        i = j = k = 0\\n\\n        # Copy data to temp arrays L[] and R[]\\n        while i < len(left_half) and j < len(right_half):\\n            if left_half[i] < right_half[j]:\\n                arr[k] = left_half[i]\\n                i += 1\\n            else:\\n                arr[k] = right_half[j]\\n                j += 1\\n            k += 1\\n\\n        # Checking if any element was left\\n        while i < len(left_half):\\n            arr[k] = left_half[i]\\n            i += 1\\n            k += 1\\n\\n        while j < len(right_half):\\n            arr[k] = right_half[j]\\n            j += 1\\n            k += 1\\n\\n    return arr\\n\\n# Example usage\\nif __name__ == \"__main__\":\\n    sample_array = [38, 27, 43, 3, 9, 82, 10]\\n    sorted_array = merge_sort(sample_array)\\n    print(\"Sorted array is:\", sorted_array)\\n```\\n\\n### Explanation:\\n1. **Base Case**: The recursion halts when the array\\'s length is 1 or less.\\n2. **Splitting**: The array is divided into two halves until smaller and manageable arrays are obtained.\\n3. **Merging**: The sorted halves are merged back together, maintaining order.\\n4. **Time Complexity**: O(n log n) in all cases, making it efficient for large datasets.\\n\\nYou can run this code by placing it into a Python environment. Let me know if you need any changes or further explanations!'}]"
      ]
     },
     "execution_count": 26,
     "metadata": {},
     "output_type": "execute_result"
    }
   ],
   "source": [
    "generation_chat_history\n"
   ]
  },
  {
   "cell_type": "code",
   "execution_count": 24,
   "id": "c4d710a1",
   "metadata": {},
   "outputs": [
    {
     "data": {
      "text/markdown": [
       "Sure! Here is a clear and concise implementation of the Merge Sort algorithm in Python:\n",
       "\n",
       "```python\n",
       "def merge_sort(arr):\n",
       "    if len(arr) > 1:\n",
       "        mid = len(arr) // 2  # Finding the mid of the array\n",
       "        left_half = arr[:mid]  # Dividing the array elements into 2 halves\n",
       "        right_half = arr[mid:]\n",
       "\n",
       "        merge_sort(left_half)  # Sorting the first half\n",
       "        merge_sort(right_half)  # Sorting the second half\n",
       "\n",
       "        i = j = k = 0\n",
       "\n",
       "        # Copy data to temp arrays L[] and R[]\n",
       "        while i < len(left_half) and j < len(right_half):\n",
       "            if left_half[i] < right_half[j]:\n",
       "                arr[k] = left_half[i]\n",
       "                i += 1\n",
       "            else:\n",
       "                arr[k] = right_half[j]\n",
       "                j += 1\n",
       "            k += 1\n",
       "\n",
       "        # Checking if any element was left\n",
       "        while i < len(left_half):\n",
       "            arr[k] = left_half[i]\n",
       "            i += 1\n",
       "            k += 1\n",
       "\n",
       "        while j < len(right_half):\n",
       "            arr[k] = right_half[j]\n",
       "            j += 1\n",
       "            k += 1\n",
       "\n",
       "    return arr\n",
       "\n",
       "# Example usage\n",
       "if __name__ == \"__main__\":\n",
       "    sample_array = [38, 27, 43, 3, 9, 82, 10]\n",
       "    sorted_array = merge_sort(sample_array)\n",
       "    print(\"Sorted array is:\", sorted_array)\n",
       "```\n",
       "\n",
       "### Explanation:\n",
       "1. **Base Case**: The recursion halts when the array's length is 1 or less.\n",
       "2. **Splitting**: The array is divided into two halves until smaller and manageable arrays are obtained.\n",
       "3. **Merging**: The sorted halves are merged back together, maintaining order.\n",
       "4. **Time Complexity**: O(n log n) in all cases, making it efficient for large datasets.\n",
       "\n",
       "You can run this code by placing it into a Python environment. Let me know if you need any changes or further explanations!"
      ]
     },
     "metadata": {},
     "output_type": "display_data"
    }
   ],
   "source": [
    "display_markdown(mergesort_code, raw=True)"
   ]
  },
  {
   "cell_type": "markdown",
   "id": "d009606c",
   "metadata": {},
   "source": [
    "Reflection create"
   ]
  },
  {
   "cell_type": "code",
   "execution_count": 27,
   "id": "8cea3fdc",
   "metadata": {},
   "outputs": [],
   "source": [
    "reflection_chat_history = [\n",
    "    {\n",
    "    \"role\": \"system\",\n",
    "    \"content\": \"You are Andrej Karpathy, an experienced computer scientist. You are tasked with generating critique and recommendations for the user's code\",\n",
    "    }\n",
    "]"
   ]
  },
  {
   "cell_type": "code",
   "execution_count": 28,
   "id": "ee766faa",
   "metadata": {},
   "outputs": [],
   "source": [
    "reflection_chat_history.append(\n",
    "    {\n",
    "        \"role\": \"user\",\n",
    "        \"content\": mergesort_code\n",
    "    }\n",
    ")"
   ]
  },
  {
   "cell_type": "code",
   "execution_count": 29,
   "id": "e4afa490",
   "metadata": {},
   "outputs": [
    {
     "data": {
      "text/plain": [
       "[{'role': 'system',\n",
       "  'content': \"You are Andrej Karpathy, an experienced computer scientist. You are tasked with generating critique and recommendations for the user's code\"},\n",
       " {'role': 'user',\n",
       "  'content': 'Sure! Here is a clear and concise implementation of the Merge Sort algorithm in Python:\\n\\n```python\\ndef merge_sort(arr):\\n    if len(arr) > 1:\\n        mid = len(arr) // 2  # Finding the mid of the array\\n        left_half = arr[:mid]  # Dividing the array elements into 2 halves\\n        right_half = arr[mid:]\\n\\n        merge_sort(left_half)  # Sorting the first half\\n        merge_sort(right_half)  # Sorting the second half\\n\\n        i = j = k = 0\\n\\n        # Copy data to temp arrays L[] and R[]\\n        while i < len(left_half) and j < len(right_half):\\n            if left_half[i] < right_half[j]:\\n                arr[k] = left_half[i]\\n                i += 1\\n            else:\\n                arr[k] = right_half[j]\\n                j += 1\\n            k += 1\\n\\n        # Checking if any element was left\\n        while i < len(left_half):\\n            arr[k] = left_half[i]\\n            i += 1\\n            k += 1\\n\\n        while j < len(right_half):\\n            arr[k] = right_half[j]\\n            j += 1\\n            k += 1\\n\\n    return arr\\n\\n# Example usage\\nif __name__ == \"__main__\":\\n    sample_array = [38, 27, 43, 3, 9, 82, 10]\\n    sorted_array = merge_sort(sample_array)\\n    print(\"Sorted array is:\", sorted_array)\\n```\\n\\n### Explanation:\\n1. **Base Case**: The recursion halts when the array\\'s length is 1 or less.\\n2. **Splitting**: The array is divided into two halves until smaller and manageable arrays are obtained.\\n3. **Merging**: The sorted halves are merged back together, maintaining order.\\n4. **Time Complexity**: O(n log n) in all cases, making it efficient for large datasets.\\n\\nYou can run this code by placing it into a Python environment. Let me know if you need any changes or further explanations!'}]"
      ]
     },
     "execution_count": 29,
     "metadata": {},
     "output_type": "execute_result"
    }
   ],
   "source": [
    "reflection_chat_history"
   ]
  },
  {
   "cell_type": "code",
   "execution_count": 30,
   "id": "5b8a0844",
   "metadata": {},
   "outputs": [],
   "source": [
    "critique = client.chat.completions.create(\n",
    "    messages=reflection_chat_history,\n",
    "    model=\"gpt-4o-mini\",\n",
    ").choices[0].message.content"
   ]
  },
  {
   "cell_type": "code",
   "execution_count": 31,
   "id": "225eba79",
   "metadata": {},
   "outputs": [
    {
     "data": {
      "text/markdown": [
       "Your implementation of the Merge Sort algorithm is clear and straightforward. It correctly handles the sorting process while adhering to the foundational concepts of the algorithm. Here are a few critiques and suggestions for improvement:\n",
       "\n",
       "### Critique:\n",
       "\n",
       "1. **Return Value**:\n",
       "   - The `merge_sort` function returns the sorted array, but this is not necessary since the sorting is done in place. If you don't need to return the array, you can simply omit the return statement. However, if retention of the sorted list is a requirement, it's fine to keep it.\n",
       "\n",
       "2. **In-Place Sorting**:\n",
       "   - While your implementation does sort the input list in place, it uses additional space for the left and right halves which affects the space complexity. This is typical for the Merge Sort algorithm, but keep in mind it has a space complexity of O(n).\n",
       "\n",
       "3. **Documentation**:\n",
       "   - While you provided a clear example of usage, adding docstrings to your functions would improve readability and make it easier for others (or yourself in the future) to understand the purpose and functionality of the code.\n",
       "\n",
       "4. **Edge Cases**:\n",
       "   - The implementation does not handle edge cases explicitly. You may want to consider adding checks for empty arrays, or single-element arrays explicitly, which although are handled by your base case, mentioning them could enhance clarity.\n",
       "\n",
       "5. **Type Annotations**:\n",
       "   - Adding type annotations for input parameters and return types can increase code readability and usability with type-checking tools.\n",
       "\n",
       "### Recommendations:\n",
       "\n",
       "1. **Add Type Annotations**:\n",
       "   ```python\n",
       "   def merge_sort(arr: list[int]) -> list[int]:\n",
       "   ```\n",
       "\n",
       "2. **Docstrings**:\n",
       "   ```python\n",
       "   def merge_sort(arr: list[int]) -> list[int]:\n",
       "       \"\"\"\n",
       "       Sorts a list in ascending order using the Merge Sort algorithm.\n",
       "       \n",
       "       Args:\n",
       "           arr (list[int]): The list of integers to be sorted.\n",
       "       \n",
       "       Returns:\n",
       "           list[int]: A new list containing the sorted integers.\n",
       "       \"\"\"\n",
       "   ```\n",
       "\n",
       "3. **Improve Edge Case Handling**:\n",
       "   Explicitly handle the cases of an empty or single-element list (although this is functionally addressed by the existing base case).\n",
       "   ```python\n",
       "   if len(arr) <= 1:\n",
       "       return arr\n",
       "   ```\n",
       "\n",
       "4. **Optimize Merging**:\n",
       "   The merging process can be encapsulated in its own function to improve clarity and reusability.\n",
       "   ```python\n",
       "   def merge(left: list[int], right: list[int]) -> list[int]:\n",
       "       # Merging logic goes here...\n",
       "   ```\n",
       "   \n",
       "   This keeps the `merge_sort` function cleaner and separates the concerns.\n",
       "\n",
       "5. **Example Usage**:\n",
       "   Consider using Python’s built-in `if __name__ == \"__main__\":` structure to make the example code more modular.\n",
       "\n",
       "### Final Refined Example:\n",
       "Here’s a slightly refined version of your code incorporating some of the recommendations:\n",
       "\n",
       "```python\n",
       "def merge_sort(arr: list[int]) -> list[int]:\n",
       "    \"\"\"Sorts a list in ascending order using the Merge Sort algorithm.\"\"\"\n",
       "    \n",
       "    # Base case\n",
       "    if len(arr) <= 1:\n",
       "        return arr\n",
       "\n",
       "    mid = len(arr) // 2\n",
       "    left_half = merge_sort(arr[:mid])\n",
       "    right_half = merge_sort(arr[mid:])\n",
       "\n",
       "    return merge(left_half, right_half)\n",
       "\n",
       "def merge(left: list[int], right: list[int]) -> list[int]:\n",
       "    \"\"\"Merges two sorted lists into a single sorted list.\"\"\"\n",
       "    merged = []\n",
       "    i = j = 0\n",
       "\n",
       "    while i < len(left) and j < len(right):\n",
       "        if left[i] < right[j]:\n",
       "            merged.append(left[i])\n",
       "            i += 1\n",
       "        else:\n",
       "            merged.append(right[j])\n",
       "            j += 1\n",
       "\n",
       "    # Collect remaining elements (if any)\n",
       "    merged.extend(left[i:])\n",
       "    merged.extend(right[j:])\n",
       "    \n",
       "    return merged\n",
       "\n",
       "# Example usage\n",
       "if __name__ == \"__main__\":\n",
       "    sample_array = [38, 27, 43, 3, 9, 82, 10]\n",
       "    sorted_array = merge_sort(sample_array)\n",
       "    print(\"Sorted array is:\", sorted_array)\n",
       "```\n",
       "\n",
       "Overall, your code implements Merge Sort effectively; with a few enhancements, it can be even more efficient and readable. Great job on implementing it!"
      ]
     },
     "metadata": {},
     "output_type": "display_data"
    }
   ],
   "source": [
    "display_markdown(critique, raw=True)"
   ]
  },
  {
   "cell_type": "code",
   "execution_count": 32,
   "id": "e784a5e2",
   "metadata": {},
   "outputs": [],
   "source": [
    "generation_chat_history.append(\n",
    "    {\n",
    "        \"role\": \"user\",\n",
    "        \"content\": critique\n",
    "    }\n",
    ")"
   ]
  },
  {
   "cell_type": "code",
   "execution_count": 33,
   "id": "a42bdea3",
   "metadata": {},
   "outputs": [
    {
     "data": {
      "text/plain": [
       "[{'role': 'system',\n",
       "  'content': \"You are a Python programmer tasked with generating high quality Python code.Your task is to Generate the best content possible for the user's request. If the user provides critique,respond with a revised version of your previous attempt.\"},\n",
       " {'role': 'user',\n",
       "  'content': 'Generate a Python implementation of the Merge Sort algorithm'},\n",
       " {'role': 'assistant',\n",
       "  'content': 'Sure! Here is a clear and concise implementation of the Merge Sort algorithm in Python:\\n\\n```python\\ndef merge_sort(arr):\\n    if len(arr) > 1:\\n        mid = len(arr) // 2  # Finding the mid of the array\\n        left_half = arr[:mid]  # Dividing the array elements into 2 halves\\n        right_half = arr[mid:]\\n\\n        merge_sort(left_half)  # Sorting the first half\\n        merge_sort(right_half)  # Sorting the second half\\n\\n        i = j = k = 0\\n\\n        # Copy data to temp arrays L[] and R[]\\n        while i < len(left_half) and j < len(right_half):\\n            if left_half[i] < right_half[j]:\\n                arr[k] = left_half[i]\\n                i += 1\\n            else:\\n                arr[k] = right_half[j]\\n                j += 1\\n            k += 1\\n\\n        # Checking if any element was left\\n        while i < len(left_half):\\n            arr[k] = left_half[i]\\n            i += 1\\n            k += 1\\n\\n        while j < len(right_half):\\n            arr[k] = right_half[j]\\n            j += 1\\n            k += 1\\n\\n    return arr\\n\\n# Example usage\\nif __name__ == \"__main__\":\\n    sample_array = [38, 27, 43, 3, 9, 82, 10]\\n    sorted_array = merge_sort(sample_array)\\n    print(\"Sorted array is:\", sorted_array)\\n```\\n\\n### Explanation:\\n1. **Base Case**: The recursion halts when the array\\'s length is 1 or less.\\n2. **Splitting**: The array is divided into two halves until smaller and manageable arrays are obtained.\\n3. **Merging**: The sorted halves are merged back together, maintaining order.\\n4. **Time Complexity**: O(n log n) in all cases, making it efficient for large datasets.\\n\\nYou can run this code by placing it into a Python environment. Let me know if you need any changes or further explanations!'},\n",
       " {'role': 'user',\n",
       "  'content': 'Your implementation of the Merge Sort algorithm is clear and straightforward. It correctly handles the sorting process while adhering to the foundational concepts of the algorithm. Here are a few critiques and suggestions for improvement:\\n\\n### Critique:\\n\\n1. **Return Value**:\\n   - The `merge_sort` function returns the sorted array, but this is not necessary since the sorting is done in place. If you don\\'t need to return the array, you can simply omit the return statement. However, if retention of the sorted list is a requirement, it\\'s fine to keep it.\\n\\n2. **In-Place Sorting**:\\n   - While your implementation does sort the input list in place, it uses additional space for the left and right halves which affects the space complexity. This is typical for the Merge Sort algorithm, but keep in mind it has a space complexity of O(n).\\n\\n3. **Documentation**:\\n   - While you provided a clear example of usage, adding docstrings to your functions would improve readability and make it easier for others (or yourself in the future) to understand the purpose and functionality of the code.\\n\\n4. **Edge Cases**:\\n   - The implementation does not handle edge cases explicitly. You may want to consider adding checks for empty arrays, or single-element arrays explicitly, which although are handled by your base case, mentioning them could enhance clarity.\\n\\n5. **Type Annotations**:\\n   - Adding type annotations for input parameters and return types can increase code readability and usability with type-checking tools.\\n\\n### Recommendations:\\n\\n1. **Add Type Annotations**:\\n   ```python\\n   def merge_sort(arr: list[int]) -> list[int]:\\n   ```\\n\\n2. **Docstrings**:\\n   ```python\\n   def merge_sort(arr: list[int]) -> list[int]:\\n       \"\"\"\\n       Sorts a list in ascending order using the Merge Sort algorithm.\\n       \\n       Args:\\n           arr (list[int]): The list of integers to be sorted.\\n       \\n       Returns:\\n           list[int]: A new list containing the sorted integers.\\n       \"\"\"\\n   ```\\n\\n3. **Improve Edge Case Handling**:\\n   Explicitly handle the cases of an empty or single-element list (although this is functionally addressed by the existing base case).\\n   ```python\\n   if len(arr) <= 1:\\n       return arr\\n   ```\\n\\n4. **Optimize Merging**:\\n   The merging process can be encapsulated in its own function to improve clarity and reusability.\\n   ```python\\n   def merge(left: list[int], right: list[int]) -> list[int]:\\n       # Merging logic goes here...\\n   ```\\n   \\n   This keeps the `merge_sort` function cleaner and separates the concerns.\\n\\n5. **Example Usage**:\\n   Consider using Python’s built-in `if __name__ == \"__main__\":` structure to make the example code more modular.\\n\\n### Final Refined Example:\\nHere’s a slightly refined version of your code incorporating some of the recommendations:\\n\\n```python\\ndef merge_sort(arr: list[int]) -> list[int]:\\n    \"\"\"Sorts a list in ascending order using the Merge Sort algorithm.\"\"\"\\n    \\n    # Base case\\n    if len(arr) <= 1:\\n        return arr\\n\\n    mid = len(arr) // 2\\n    left_half = merge_sort(arr[:mid])\\n    right_half = merge_sort(arr[mid:])\\n\\n    return merge(left_half, right_half)\\n\\ndef merge(left: list[int], right: list[int]) -> list[int]:\\n    \"\"\"Merges two sorted lists into a single sorted list.\"\"\"\\n    merged = []\\n    i = j = 0\\n\\n    while i < len(left) and j < len(right):\\n        if left[i] < right[j]:\\n            merged.append(left[i])\\n            i += 1\\n        else:\\n            merged.append(right[j])\\n            j += 1\\n\\n    # Collect remaining elements (if any)\\n    merged.extend(left[i:])\\n    merged.extend(right[j:])\\n    \\n    return merged\\n\\n# Example usage\\nif __name__ == \"__main__\":\\n    sample_array = [38, 27, 43, 3, 9, 82, 10]\\n    sorted_array = merge_sort(sample_array)\\n    print(\"Sorted array is:\", sorted_array)\\n```\\n\\nOverall, your code implements Merge Sort effectively; with a few enhancements, it can be even more efficient and readable. Great job on implementing it!'}]"
      ]
     },
     "execution_count": 33,
     "metadata": {},
     "output_type": "execute_result"
    }
   ],
   "source": [
    "generation_chat_history"
   ]
  },
  {
   "cell_type": "markdown",
   "id": "8b4ea087",
   "metadata": {},
   "source": [
    "Generation step"
   ]
  },
  {
   "cell_type": "code",
   "execution_count": 35,
   "id": "36622585",
   "metadata": {},
   "outputs": [],
   "source": [
    "essay = client.chat.completions.create(\n",
    "    messages=generation_chat_history,\n",
    "    model=\"gpt-4o-mini\",\n",
    ").choices[0].message.content"
   ]
  },
  {
   "cell_type": "code",
   "execution_count": 36,
   "id": "d68d2a58",
   "metadata": {},
   "outputs": [
    {
     "data": {
      "text/markdown": [
       "Thank you for the detailed critique! Here’s the refined version of the Merge Sort algorithm based on your suggestions. I've included type annotations, added docstrings for better clarity, and separated the merging logic into its own function.\n",
       "\n",
       "```python\n",
       "def merge_sort(arr: list[int]) -> list[int]:\n",
       "    \"\"\"\n",
       "    Sorts a list in ascending order using the Merge Sort algorithm.\n",
       "    \n",
       "    Args:\n",
       "        arr (list[int]): The list of integers to be sorted.\n",
       "    \n",
       "    Returns:\n",
       "        list[int]: A new list containing the sorted integers.\n",
       "    \"\"\"\n",
       "    # Base case for recursion\n",
       "    if len(arr) <= 1:\n",
       "        return arr\n",
       "\n",
       "    mid = len(arr) // 2\n",
       "    left_half = merge_sort(arr[:mid])  # Sorting the left half\n",
       "    right_half = merge_sort(arr[mid:])  # Sorting the right half\n",
       "\n",
       "    return merge(left_half, right_half)  # Merging two sorted halves\n",
       "\n",
       "\n",
       "def merge(left: list[int], right: list[int]) -> list[int]:\n",
       "    \"\"\"\n",
       "    Merges two sorted lists into a single sorted list.\n",
       "    \n",
       "    Args:\n",
       "        left (list[int]): The first sorted list.\n",
       "        right (list[int]): The second sorted list.\n",
       "    \n",
       "    Returns:\n",
       "        list[int]: A new sorted list containing all elements from left and right.\n",
       "    \"\"\"\n",
       "    merged = []\n",
       "    i = j = 0\n",
       "\n",
       "    # Merge the two lists while maintaining order\n",
       "    while i < len(left) and j < len(right):\n",
       "        if left[i] < right[j]:\n",
       "            merged.append(left[i])\n",
       "            i += 1\n",
       "        else:\n",
       "            merged.append(right[j])\n",
       "            j += 1\n",
       "\n",
       "    # Collect remaining elements, if any\n",
       "    merged.extend(left[i:])\n",
       "    merged.extend(right[j:])\n",
       "    \n",
       "    return merged\n",
       "\n",
       "# Example usage\n",
       "if __name__ == \"__main__\":\n",
       "    sample_array = [38, 27, 43, 3, 9, 82, 10]\n",
       "    sorted_array = merge_sort(sample_array)\n",
       "    print(\"Sorted array is:\", sorted_array)\n",
       "```\n",
       "\n",
       "### Improvements Made:\n",
       "1. **Type Annotations**: Added to both the `merge_sort` and `merge` functions for better clarity.\n",
       "2. **Docstrings**: Included descriptions for both functions to explain their purpose, arguments, and return values.\n",
       "3. **Separation of Concerns**: The merging logic has been moved to a separate `merge` function, simplifying the `merge_sort` function.\n",
       "4. **Handling Edge Cases**: Explicitly returns the input in the base case, ensuring clarity when dealing with single-element or empty lists.\n",
       "\n",
       "This updated implementation retains the efficiency of the original while improving readability and maintainability. Let me know if you have any further suggestions or if there's anything else you'd like to explore!"
      ]
     },
     "metadata": {},
     "output_type": "display_data"
    }
   ],
   "source": [
    "display_markdown(essay, raw=True)"
   ]
  },
  {
   "cell_type": "code",
   "execution_count": null,
   "id": "991d3e50",
   "metadata": {},
   "outputs": [],
   "source": []
  }
 ],
 "metadata": {
  "kernelspec": {
   "display_name": "base",
   "language": "python",
   "name": "python3"
  },
  "language_info": {
   "codemirror_mode": {
    "name": "ipython",
    "version": 3
   },
   "file_extension": ".py",
   "mimetype": "text/x-python",
   "name": "python",
   "nbconvert_exporter": "python",
   "pygments_lexer": "ipython3",
   "version": "3.12.7"
  }
 },
 "nbformat": 4,
 "nbformat_minor": 5
}
